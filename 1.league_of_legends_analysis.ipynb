{
 "cells": [
  {
   "cell_type": "markdown",
   "id": "384805b1",
   "metadata": {},
   "source": [
    "\"The support champion with the best winrate with Aphelios is ('Alistar', 'Blitzcrank') with a winrate of 100.00%\"\n"
   ]
  },
  {
   "cell_type": "markdown",
   "id": "688401cc",
   "metadata": {},
   "source": [
    "### Requirements\n",
    "\n",
    "Check that you have pandas installed, if not open your shell and run the command: `pip3 install pandas`\\\n",
    "Make sure you have the `matches2020.csv` file to start the workshop.\n",
    "\n",
    "In this workshop you will analyze a csv file.\\\n",
    "I strongly advise you not to use any loop (for, while ... ect)\\\n",
    "Indeed this workshop is made to be successful without the use of any loop,\\\n",
    "Read the documentation, search on the web, and come to the supervisors if you get stuck on a part for too long."
   ]
  },
  {
   "cell_type": "code",
   "execution_count": 4,
   "id": "f8b97516",
   "metadata": {},
   "outputs": [
    {
     "name": "stdout",
     "output_type": "stream",
     "text": [
      "1.league_of_legends_analysis.ipynb\tdatasets      image\n",
      "2.video_games_data_visualisation.ipynb\tdatasets.zip  README.md\n"
     ]
    }
   ],
   "source": [
    "!ls"
   ]
  },
  {
   "cell_type": "raw",
   "id": "cd006797-5368-4e88-b875-ece6c10bf1c9",
   "metadata": {},
   "source": [
    "### Import\n",
    "\n",
    "To start, it is necessary to import `pandas`, we give it the alias `pd` to be able to use its methods more easily.\\\n",
    "If you don't know what a method is I advise you to start with the workshop : `python basics`"
   ]
  },
  {
   "cell_type": "code",
   "execution_count": 8,
   "id": "5496c943",
   "metadata": {},
   "outputs": [
    {
     "name": "stdout",
     "output_type": "stream",
     "text": [
      "Defaulting to user installation because normal site-packages is not writeable\n",
      "Requirement already satisfied: pandas in /home/tokyovania/.local/lib/python3.10/site-packages (2.1.3)\n",
      "Requirement already satisfied: numpy<2,>=1.22.4 in /home/tokyovania/.local/lib/python3.10/site-packages (from pandas) (1.26.2)\n",
      "Requirement already satisfied: python-dateutil>=2.8.2 in /home/tokyovania/.local/lib/python3.10/site-packages (from pandas) (2.8.2)\n",
      "Requirement already satisfied: pytz>=2020.1 in /usr/lib/python3/dist-packages (from pandas) (2022.1)\n",
      "Requirement already satisfied: tzdata>=2022.1 in /home/tokyovania/.local/lib/python3.10/site-packages (from pandas) (2023.3)\n",
      "Requirement already satisfied: six>=1.5 in /usr/lib/python3/dist-packages (from python-dateutil>=2.8.2->pandas) (1.16.0)\n"
     ]
    }
   ],
   "source": [
    "!pip3 install pandas\n",
    "import pandas as pd"
   ]
  },
  {
   "cell_type": "markdown",
   "id": "8e7065a6",
   "metadata": {},
   "source": [
    "## Read & Verify\n",
    "\n",
    "Here we are at our first task, the difficulty will increase gradually.\n",
    "\n",
    "\n",
    "For now pandas needs to read the csv to be able to use it.\\\n",
    "You have to read the file : `matches2020.csv`\\\n",
    "Since it is the first task, here is the link of the function : [read_csv](https://pandas.pydata.org/pandas-docs/stable/reference/api/pandas.read_csv.html)\\\n",
    "For the next steps, I will let you search in the documentation: [documentation](https://pandas.pydata.org/docs/index.html)"
   ]
  },
  {
   "cell_type": "code",
   "execution_count": 10,
   "id": "28ec7b15",
   "metadata": {},
   "outputs": [],
   "source": [
    "#read the file : matches2020.csv with the function read_csv\n",
    "\n",
    "data = pd.read_csv(\"datasets/matches2020.csv\")"
   ]
  },
  {
   "cell_type": "markdown",
   "id": "83ff96c8",
   "metadata": {},
   "source": [
    "Congratulations, you have successfully completed the first task,\n",
    "\n",
    "\n",
    "The second task is to display the dataframe using the [head](https://pandas.pydata.org/docs/reference/api/pandas.DataFrame.head.html) method.\\\n",
    "head will by default display the first 5 lines if you don't set any parameters."
   ]
  },
  {
   "cell_type": "code",
   "execution_count": 86,
   "id": "b8ec62b6",
   "metadata": {},
   "outputs": [
    {
     "data": {
      "text/html": [
       "<div>\n",
       "<style scoped>\n",
       "    .dataframe tbody tr th:only-of-type {\n",
       "        vertical-align: middle;\n",
       "    }\n",
       "\n",
       "    .dataframe tbody tr th {\n",
       "        vertical-align: top;\n",
       "    }\n",
       "\n",
       "    .dataframe thead th {\n",
       "        text-align: right;\n",
       "    }\n",
       "</style>\n",
       "<table border=\"1\" class=\"dataframe\">\n",
       "  <thead>\n",
       "    <tr style=\"text-align: right;\">\n",
       "      <th></th>\n",
       "      <th>Unnamed: 0</th>\n",
       "      <th>gameid</th>\n",
       "      <th>league</th>\n",
       "      <th>blueteam</th>\n",
       "      <th>redteam</th>\n",
       "      <th>bluetop</th>\n",
       "      <th>bluejungle</th>\n",
       "      <th>bluemid</th>\n",
       "      <th>blueadc</th>\n",
       "      <th>bluesupport</th>\n",
       "      <th>redtop</th>\n",
       "      <th>redjungle</th>\n",
       "      <th>redmid</th>\n",
       "      <th>redadc</th>\n",
       "      <th>redsupport</th>\n",
       "      <th>result</th>\n",
       "    </tr>\n",
       "  </thead>\n",
       "  <tbody>\n",
       "    <tr>\n",
       "      <th>0</th>\n",
       "      <td>0</td>\n",
       "      <td>ESPORTSTMNT03/1241318</td>\n",
       "      <td>KeSPA</td>\n",
       "      <td>SANDBOX Gaming</td>\n",
       "      <td>T1</td>\n",
       "      <td>Rumble</td>\n",
       "      <td>Elise</td>\n",
       "      <td>Qiyana</td>\n",
       "      <td>MissFortune</td>\n",
       "      <td>Nautilus</td>\n",
       "      <td>Aatrox</td>\n",
       "      <td>Gragas</td>\n",
       "      <td>Mordekaiser</td>\n",
       "      <td>Xayah</td>\n",
       "      <td>Rakan</td>\n",
       "      <td>1</td>\n",
       "    </tr>\n",
       "    <tr>\n",
       "      <th>1</th>\n",
       "      <td>1</td>\n",
       "      <td>ESPORTSTMNT03/1241322</td>\n",
       "      <td>KeSPA</td>\n",
       "      <td>T1</td>\n",
       "      <td>SANDBOX Gaming</td>\n",
       "      <td>Jayce</td>\n",
       "      <td>JarvanIV</td>\n",
       "      <td>Orianna</td>\n",
       "      <td>MissFortune</td>\n",
       "      <td>Nautilus</td>\n",
       "      <td>Aatrox</td>\n",
       "      <td>Elise</td>\n",
       "      <td>Qiyana</td>\n",
       "      <td>Varus</td>\n",
       "      <td>TahmKench</td>\n",
       "      <td>0</td>\n",
       "    </tr>\n",
       "    <tr>\n",
       "      <th>2</th>\n",
       "      <td>2</td>\n",
       "      <td>ESPORTSTMNT03/1241324</td>\n",
       "      <td>KeSPA</td>\n",
       "      <td>T1</td>\n",
       "      <td>SANDBOX Gaming</td>\n",
       "      <td>Renekton</td>\n",
       "      <td>RekSai</td>\n",
       "      <td>Mordekaiser</td>\n",
       "      <td>Xayah</td>\n",
       "      <td>Rakan</td>\n",
       "      <td>Aatrox</td>\n",
       "      <td>Sejuani</td>\n",
       "      <td>Azir</td>\n",
       "      <td>MissFortune</td>\n",
       "      <td>Nautilus</td>\n",
       "      <td>1</td>\n",
       "    </tr>\n",
       "    <tr>\n",
       "      <th>3</th>\n",
       "      <td>3</td>\n",
       "      <td>ESPORTSTMNT03/1241328</td>\n",
       "      <td>KeSPA</td>\n",
       "      <td>T1</td>\n",
       "      <td>SANDBOX Gaming</td>\n",
       "      <td>Pantheon</td>\n",
       "      <td>Elise</td>\n",
       "      <td>Nautilus</td>\n",
       "      <td>Xayah</td>\n",
       "      <td>Rakan</td>\n",
       "      <td>Quinn</td>\n",
       "      <td>Olaf</td>\n",
       "      <td>Orianna</td>\n",
       "      <td>MissFortune</td>\n",
       "      <td>Leona</td>\n",
       "      <td>0</td>\n",
       "    </tr>\n",
       "    <tr>\n",
       "      <th>4</th>\n",
       "      <td>4</td>\n",
       "      <td>ESPORTSTMNT03/1241386</td>\n",
       "      <td>KeSPA</td>\n",
       "      <td>DRX</td>\n",
       "      <td>Afreeca Freecs</td>\n",
       "      <td>Mordekaiser</td>\n",
       "      <td>JarvanIV</td>\n",
       "      <td>Ryze</td>\n",
       "      <td>Xayah</td>\n",
       "      <td>Rakan</td>\n",
       "      <td>Renekton</td>\n",
       "      <td>Elise</td>\n",
       "      <td>Velkoz</td>\n",
       "      <td>Varus</td>\n",
       "      <td>Braum</td>\n",
       "      <td>0</td>\n",
       "    </tr>\n",
       "  </tbody>\n",
       "</table>\n",
       "</div>"
      ],
      "text/plain": [
       "   Unnamed: 0                 gameid league        blueteam         redteam  \\\n",
       "0           0  ESPORTSTMNT03/1241318  KeSPA  SANDBOX Gaming              T1   \n",
       "1           1  ESPORTSTMNT03/1241322  KeSPA              T1  SANDBOX Gaming   \n",
       "2           2  ESPORTSTMNT03/1241324  KeSPA              T1  SANDBOX Gaming   \n",
       "3           3  ESPORTSTMNT03/1241328  KeSPA              T1  SANDBOX Gaming   \n",
       "4           4  ESPORTSTMNT03/1241386  KeSPA             DRX  Afreeca Freecs   \n",
       "\n",
       "       bluetop bluejungle      bluemid      blueadc bluesupport    redtop  \\\n",
       "0       Rumble      Elise       Qiyana  MissFortune    Nautilus    Aatrox   \n",
       "1        Jayce   JarvanIV      Orianna  MissFortune    Nautilus    Aatrox   \n",
       "2     Renekton     RekSai  Mordekaiser        Xayah       Rakan    Aatrox   \n",
       "3     Pantheon      Elise     Nautilus        Xayah       Rakan     Quinn   \n",
       "4  Mordekaiser   JarvanIV         Ryze        Xayah       Rakan  Renekton   \n",
       "\n",
       "  redjungle       redmid       redadc redsupport  result  \n",
       "0    Gragas  Mordekaiser        Xayah      Rakan       1  \n",
       "1     Elise       Qiyana        Varus  TahmKench       0  \n",
       "2   Sejuani         Azir  MissFortune   Nautilus       1  \n",
       "3      Olaf      Orianna  MissFortune      Leona       0  \n",
       "4     Elise       Velkoz        Varus      Braum       0  "
      ]
     },
     "execution_count": 86,
     "metadata": {},
     "output_type": "execute_result"
    }
   ],
   "source": [
    "# Use the head method\n",
    "data.head()"
   ]
  },
  {
   "cell_type": "markdown",
   "id": "b9ef744c",
   "metadata": {},
   "source": [
    "**Expected output:** \\\n",
    "<img src=\"./image/head_result.png\"/>"
   ]
  },
  {
   "cell_type": "markdown",
   "id": "e65be67e",
   "metadata": {},
   "source": [
    "### Dataset length\n",
    "\n",
    "We can observe that indeed our dataset contains information about competitive league of legends games in 2020.\\\n",
    "I will describe the different columns :\n",
    "- the **id** of the game,\n",
    "- the **league**, in league of legends the competition is divided in different regional leagues,\\\n",
    "especially the LFL which is the french league and the LEC which is the european league.\n",
    "- the **name** of the blue team,\n",
    "- the **name** of the red team,\n",
    "- in a game of league of legends there are 5 different roles, \\\n",
    "the **top**, the **mid**, the **jungle**, the **adc** and the **support**, to each role corresponds its champion pool.\n",
    "- the result, equal to 1 if the blue team wins otherwise equal to 0\n",
    "\n",
    "You have to return the total number of games of the dataset."
   ]
  },
  {
   "cell_type": "code",
   "execution_count": 16,
   "id": "0ee878fa",
   "metadata": {},
   "outputs": [],
   "source": [
    "# Define a function to return the number of games\n",
    "def number_of_games(df):\n",
    "    return len(df)"
   ]
  },
  {
   "cell_type": "code",
   "execution_count": 17,
   "id": "57f408f6",
   "metadata": {},
   "outputs": [
    {
     "data": {
      "text/plain": [
       "5612"
      ]
     },
     "execution_count": 17,
     "metadata": {},
     "output_type": "execute_result"
    }
   ],
   "source": [
    "number_of_games(data)"
   ]
  },
  {
   "cell_type": "markdown",
   "id": "4a03dea3",
   "metadata": {},
   "source": [
    "**Expected output :** `5612`\n"
   ]
  },
  {
   "cell_type": "markdown",
   "id": "2e252523",
   "metadata": {},
   "source": [
    "The LFL is the French league, teams like Vitality or LDLC play there. \\\n",
    "you will need to return the number of competitive games in the LFL in 2020.\n",
    "\n",
    "Try to create a variable that retrieves only the games where the League column is equal to `LFL`,\\\n",
    "then apply the same method as before."
   ]
  },
  {
   "cell_type": "code",
   "execution_count": 21,
   "id": "2599646b",
   "metadata": {},
   "outputs": [],
   "source": [
    "def number_of_games_lfl(df):\n",
    "    # Filter the DataFrame to include only LFL games\n",
    "    lfl_df = df[df['league'] == 'LFL']\n",
    "    # Return the number of games in LFL\n",
    "    return len(lfl_df)\n"
   ]
  },
  {
   "cell_type": "code",
   "execution_count": 22,
   "id": "5e044081",
   "metadata": {},
   "outputs": [
    {
     "data": {
      "text/plain": [
       "129"
      ]
     },
     "execution_count": 22,
     "metadata": {},
     "output_type": "execute_result"
    }
   ],
   "source": [
    "number_of_games_lfl(data)"
   ]
  },
  {
   "cell_type": "markdown",
   "id": "b15a2a3e",
   "metadata": {},
   "source": [
    "**Expected output :** `129`"
   ]
  },
  {
   "cell_type": "markdown",
   "id": "3eba9b27",
   "metadata": {},
   "source": [
    "### Winrate\n",
    "\n",
    "Bravo, you managed to get the parts of LFL and to count them\n",
    "\n",
    "Let's go to the next level, \\\n",
    "In league of legends, the map has a blue side and a red side,\\\n",
    "the goal of the red team is to destroy the base on the blue side while the blue team must destroy the base on the red side.\\\n",
    "There is a rumor that being on the blue side gives an advantage to the team, check this rumor.\n",
    "\n",
    "try to calculate the winrate of a team when it is on the `red` side.\\\n",
    "Don't forget that when the red team loses, the `result` is 1 and when it wins, the `result` is 0."
   ]
  },
  {
   "cell_type": "code",
   "execution_count": 29,
   "id": "3e1453f6",
   "metadata": {},
   "outputs": [],
   "source": [
    "def redside_winrate(df):\n",
    "    # Filter the DataFrame to include only games where the red team has won (result == 1)\n",
    "    red_wins_df = df[df['result'] == 0]\n",
    "    # Calculate the winrate as the proportion of games where the red team has won\n",
    "    winrate = len(red_wins_df) / len(df)\n",
    "    return winrate"
   ]
  },
  {
   "cell_type": "code",
   "execution_count": 30,
   "id": "a8bd24ed",
   "metadata": {},
   "outputs": [
    {
     "data": {
      "text/plain": [
       "0.4718460441910192"
      ]
     },
     "execution_count": 30,
     "metadata": {},
     "output_type": "execute_result"
    }
   ],
   "source": [
    "redside_winrate(data)"
   ]
  },
  {
   "cell_type": "markdown",
   "id": "ed43f2af",
   "metadata": {},
   "source": [
    "**Expected output :** `0.4718460441910192`"
   ]
  },
  {
   "cell_type": "markdown",
   "id": "c331fd10",
   "metadata": {},
   "source": [
    "### List without duplicates\n",
    "\n",
    "Well done.\\\n",
    "But one question is on my mind.\\\n",
    "Which teams are in the French League of Legends (LFL)?\\\n",
    "List the LFL teams without duplicates"
   ]
  },
  {
   "cell_type": "code",
   "execution_count": 35,
   "id": "a9ff15bd",
   "metadata": {},
   "outputs": [],
   "source": [
    "def list_equip_lfl(df):\n",
    "    # Filter the DataFrame to include only LFL games\n",
    "    lfl_df = df[df['league'] == 'LFL']\n",
    "    \n",
    "    # Extract unique team names from both blue_team and red_team columns\n",
    "    unique_blue_teams = lfl_df['blueteam'].unique()\n",
    "    unique_red_teams = lfl_df['redteam'].unique()\n",
    "    \n",
    "    # Concatenate and convert to a list to remove duplicates\n",
    "    lfl_teams = list(set(list(unique_blue_teams) + list(unique_red_teams)))\n",
    "    \n",
    "    return lfl_teams"
   ]
  },
  {
   "cell_type": "code",
   "execution_count": 36,
   "id": "58bdc608",
   "metadata": {},
   "outputs": [
    {
     "data": {
      "text/plain": [
       "['Vitality.Bee',\n",
       " 'LDLC OL',\n",
       " 'Team MCES',\n",
       " 'IZI Dream',\n",
       " 'GameWard',\n",
       " 'GamersOrigin',\n",
       " 'Misfits Premier',\n",
       " 'Solary']"
      ]
     },
     "execution_count": 36,
     "metadata": {},
     "output_type": "execute_result"
    }
   ],
   "source": [
    "list_equip_lfl(data)"
   ]
  },
  {
   "cell_type": "markdown",
   "id": "9903527a",
   "metadata": {},
   "source": [
    "**Expected output :** ```array(['Misfits Premier', 'GameWard', 'Solary', 'Vitality.Bee', 'GamersOrigin', 'LDLC OL', 'Team MCES', 'IZI Dream'], dtype=object)```"
   ]
  },
  {
   "cell_type": "markdown",
   "id": "451648c4",
   "metadata": {},
   "source": [
    "### Recurrent value\n",
    "\n",
    "Well done, it looks like there were 8 teams in the LFL in 2020.\n",
    "\n",
    "League of Legends is a game where the meta changes regularly,\\\n",
    "every year some champions dominate the game,\\\n",
    "The few games I played, I played the mid role.\\\n",
    "Which champion has been playing the most in mid. \\\n",
    "What is the value that appears the most in the columns: `bluemid` and `redmid` ?"
   ]
  },
  {
   "cell_type": "code",
   "execution_count": 37,
   "id": "322fcca9",
   "metadata": {},
   "outputs": [],
   "source": [
    "def top_pick_mid(df):\n",
    "    # Extract the counts of champion picks in blue mid and red mid\n",
    "    blue_mid_counts = df['bluemid'].value_counts()\n",
    "    red_mid_counts = df['redmid'].value_counts()\n",
    "    \n",
    "    # Combine the counts from both columns and get the champion with the highest count\n",
    "    combined_counts = blue_mid_counts.add(red_mid_counts, fill_value=0)\n",
    "    top_mid_champion = combined_counts.idxmax()\n",
    "    \n",
    "    return top_mid_champion"
   ]
  },
  {
   "cell_type": "code",
   "execution_count": 38,
   "id": "4a72e5ea-72b9-40b1-ad5e-8d69206a7c75",
   "metadata": {},
   "outputs": [
    {
     "data": {
      "text/plain": [
       "'Zoe'"
      ]
     },
     "execution_count": 38,
     "metadata": {},
     "output_type": "execute_result"
    }
   ],
   "source": [
    "top_pick_mid(data)"
   ]
  },
  {
   "cell_type": "markdown",
   "id": "47c9f209",
   "metadata": {},
   "source": [
    "**Expected output :** `'Zoe'`"
   ]
  },
  {
   "cell_type": "markdown",
   "id": "1f4d103b",
   "metadata": {},
   "source": [
    "Ah Zoé,\\\n",
    "The famous bubbles that, when they touch you, make you wake up at your fountain.\n",
    "\n",
    "More seriously, Zoé seems to have been extremely played in the mid.\\\n",
    "But all roles taken together,which are the 5 champions who have been the most played.\n",
    "\n",
    "To do this look at the 5 roles of both teams to see which value appears the most : \\\n",
    "`bluetop`, `bluejungle`, `bluemid`, `blueadc`, `bluesupport`, `redtop`, `redjungle`, `redmid`, `redadc`, `redsupport`.\n",
    "\n",
    "Good luck!"
   ]
  },
  {
   "cell_type": "code",
   "execution_count": 41,
   "id": "86632693",
   "metadata": {},
   "outputs": [],
   "source": [
    "# Define a function to return the five most played champions (top, mid, jungle, adc, support)\n",
    "def ranking_all_pick(df):\n",
    "    # Extract the relevant columns for each role\n",
    "    top_picks = pd.concat([df['bluetop'], df['redtop']])\n",
    "    mid_picks = pd.concat([df['bluemid'], df['redmid']])\n",
    "    jungle_picks = pd.concat([df['bluejungle'], df['redjungle']])\n",
    "    adc_picks = pd.concat([df['blueadc'], df['redadc']])\n",
    "    support_picks = pd.concat([df['bluesupport'], df['redsupport']])\n",
    "    \n",
    "    # Combine all the picks into a single Series\n",
    "    all_picks = pd.concat([top_picks, mid_picks, jungle_picks, adc_picks, support_picks])\n",
    "    \n",
    "    # Count the occurrences of each champion and get the top five\n",
    "    top_five_champions = all_picks.value_counts().head(5)\n",
    "    \n",
    "    return top_five_champions\n",
    "\n"
   ]
  },
  {
   "cell_type": "code",
   "execution_count": 40,
   "id": "66a21821",
   "metadata": {},
   "outputs": [
    {
     "data": {
      "text/plain": [
       "Aphelios    2147\n",
       "Nautilus    2084\n",
       "Sett        1816\n",
       "Thresh      1730\n",
       "Ornn        1700\n",
       "Name: count, dtype: int64"
      ]
     },
     "execution_count": 40,
     "metadata": {},
     "output_type": "execute_result"
    }
   ],
   "source": [
    "ranking_all_pick(data).head()"
   ]
  },
  {
   "cell_type": "markdown",
   "id": "897641ac",
   "metadata": {},
   "source": [
    "**Expected output :** \n",
    "\n",
    "`Aphelios    2147\n",
    " Nautilus    2084\n",
    " Sett        1816\n",
    " Thresh      1730\n",
    " Ornn        1700\n",
    " dtype: int64`"
   ]
  },
  {
   "cell_type": "markdown",
   "id": "7e723972",
   "metadata": {},
   "source": [
    "### Winrate in LEC\n",
    "\n",
    "Zoë is finally not even in the top 5 most played champions, maybe she was ban most of the time.\\\n",
    "Aphelios seems to have dominated the summoner's rift.\n",
    "\n",
    "The LEC is the European league one rank above the LFL, the dream of every European player. \\\n",
    "I wonder which team was able to dominate this league.\\\n",
    "List the different teams in the LEC league and their number of wins."
   ]
  },
  {
   "cell_type": "code",
   "execution_count": 52,
   "id": "19dda682",
   "metadata": {},
   "outputs": [],
   "source": [
    "def display_wins_per_teams(df):\n",
    "    # Filter the DataFrame to include only LEC league games\n",
    "    lec_df = df[df['league'] == 'LEC']\n",
    "    \n",
    "    # Calculate the number of wins for each team in both blue_team and red_team columns\n",
    "    wins_per_blue_team = lec_df.groupby('blueteam')['result'].sum()\n",
    "    wins_per_red_team = lec_df.groupby('redteam')['result'].sum()\n",
    "    \n",
    "    # Combine the results for blue_team and red_team into a single Series\n",
    "    wins_per_teams = wins_per_blue_team.add(wins_per_red_team, fill_value=0)\n",
    "    \n",
    "    # Sort the results in descending order\n",
    "    wins_per_teams = wins_per_teams.sort_values(ascending=False)\n",
    "    \n",
    "    return wins_per_teams"
   ]
  },
  {
   "cell_type": "code",
   "execution_count": 53,
   "id": "6ebe6022",
   "metadata": {},
   "outputs": [
    {
     "data": {
      "text/plain": [
       "blueteam\n",
       "G2 Esports               33\n",
       "MAD Lions                28\n",
       "Rogue                    25\n",
       "Fnatic                   22\n",
       "Origen                   22\n",
       "Excel Esports            20\n",
       "SK Gaming                20\n",
       "Misfits Gaming           19\n",
       "Team Vitality            19\n",
       "FC Schalke 04 Esports    18\n",
       "Name: result, dtype: int64"
      ]
     },
     "execution_count": 53,
     "metadata": {},
     "output_type": "execute_result"
    }
   ],
   "source": [
    "display_wins_per_teams(data)"
   ]
  },
  {
   "cell_type": "markdown",
   "id": "abd0406e",
   "metadata": {},
   "source": [
    "**Expected output :**\n",
    "\n",
    "`G2 Esports               48\n",
    " Fnatic                   34\n",
    " MAD Lions                31\n",
    " Rogue                    31\n",
    " Origen                   24\n",
    " FC Schalke 04 Esports    18\n",
    " Misfits Gaming           18\n",
    " Excel Esports            15\n",
    " SK Gaming                13\n",
    " Team Vitality             9\n",
    " dtype: int64`"
   ]
  },
  {
   "cell_type": "markdown",
   "id": "107140ef",
   "metadata": {},
   "source": [
    "### Counter\n",
    "\n",
    "What a team: G2!\n",
    "\n",
    "Aphelios was the most played champion in competition in 2020,\\\n",
    "in my research I noticed that Ezreal was the champion who was the most pick against Aphelios.\\\n",
    "Was this a good decision ?\n",
    "\n",
    "Calculate the winrate of Aphelios against Ezreal,\\\n",
    "Aphelios and Ezreal are champions that are usually played in the role of adc. \\\n",
    "Just use the `blueadc` and `redadc` columns and ```result``` for this exercise."
   ]
  },
  {
   "cell_type": "code",
   "execution_count": 62,
   "id": "0cca2db3",
   "metadata": {},
   "outputs": [],
   "source": [
    "def aphelios_vs_ezreal(df):\n",
    "    # Filter the DataFrame to include only games with Aphelios or Ezreal as ADC\n",
    "    adc_games = df[(df['blueadc'].isin(['Aphelios', 'Ezreal'])) | (df['redadc'].isin(['Aphelios', 'Ezreal']))]\n",
    "    \n",
    "    # Calculate the number of games where Aphelios faced Ezreal\n",
    "    aphelios_vs_ezreal_games = adc_games[(adc_games['blueadc'] == 'Aphelios') & (adc_games['redadc'] == 'Ezreal') |\n",
    "                                          (adc_games['blueadc'] == 'Ezreal') & (adc_games['redadc'] == 'Aphelios')]\n",
    "    \n",
    "    # Calculate the winrate for Aphelios against Ezreal\n",
    "    aphelios_wins = aphelios_vs_ezreal_games[(aphelios_vs_ezreal_games['blueadc'] == 'Aphelios') & (aphelios_vs_ezreal_games['result'] == 1) |\n",
    "                                              (aphelios_vs_ezreal_games['blueadc'] == 'Ezreal') & (aphelios_vs_ezreal_games['result'] == 0)]\n",
    "    total_games = len(aphelios_vs_ezreal_games)\n",
    "    \n",
    "    if total_games == 0:\n",
    "        return \"No games found with Aphelios or Ezreal as ADC against each other.\"\n",
    "    \n",
    "    aphelios_winrate = len(aphelios_wins) / total_games\n",
    "    \n",
    "    return aphelios_winrate\n"
   ]
  },
  {
   "cell_type": "code",
   "execution_count": 63,
   "id": "4a2c2086",
   "metadata": {},
   "outputs": [
    {
     "data": {
      "text/plain": [
       "0.528046421663443"
      ]
     },
     "execution_count": 63,
     "metadata": {},
     "output_type": "execute_result"
    }
   ],
   "source": [
    "aphelios_vs_ezreal(data)"
   ]
  },
  {
   "cell_type": "markdown",
   "id": "856bcff6",
   "metadata": {},
   "source": [
    "**Expected output :** `0.528046421663443`"
   ]
  },
  {
   "cell_type": "markdown",
   "id": "7d57eea4",
   "metadata": {},
   "source": [
    "You have answered all my questions, well done.\\\n",
    "Now you are free to do your analysis.\n",
    "\n",
    "Why don't you try to see with which support Aphelios has the best winrate for example?"
   ]
  },
  {
   "cell_type": "code",
   "execution_count": 85,
   "id": "f22450a5",
   "metadata": {},
   "outputs": [
    {
     "name": "stdout",
     "output_type": "stream",
     "text": [
      "         support   winrate\n",
      "4   Fiddlesticks  1.000000\n",
      "6         Gragas  1.000000\n",
      "9          Kayle  1.000000\n",
      "28          Sion  1.000000\n",
      "37        Zilean  1.000000\n",
      "1           Bard  0.712968\n",
      "0        Alistar  0.697436\n",
      "20      Pantheon  0.683333\n",
      "27          Shen  0.666667\n",
      "35      Volibear  0.666667\n",
      "17      Nautilus  0.658451\n",
      "5          Galio  0.625000\n",
      "12           Lux  0.625000\n",
      "24        Rumble  0.611111\n",
      "31     TahmKench  0.595683\n",
      "11          Lulu  0.584722\n",
      "32         Taric  0.568889\n",
      "3          Braum  0.563275\n",
      "22         Rakan  0.531809\n",
      "30        Soraka  0.500000\n",
      "33        Thresh  0.476595\n",
      "10         Leona  0.470813\n",
      "2     Blitzcrank  0.468045\n",
      "25         Senna  0.466667\n",
      "15       Morgana  0.428571\n",
      "8          Karma  0.393410\n",
      "36         Yuumi  0.391534\n",
      "26          Sett  0.354790\n",
      "34       Trundle  0.333333\n",
      "21          Pyke  0.333333\n",
      "7          Janna  0.250000\n",
      "13        Maokai  0.194444\n",
      "18       Orianna  0.000000\n",
      "16          Nami  0.000000\n",
      "14    MonkeyKing  0.000000\n",
      "19          Ornn  0.000000\n",
      "23      Renekton  0.000000\n",
      "29          Sona  0.000000\n",
      "38          Zyra  0.000000\n"
     ]
    }
   ],
   "source": [
    "def support_winrates_with_aphelios(df):\n",
    "    # Filter the DataFrame to include only games where Aphelios is the ADC\n",
    "    aphelios_adc_games = df[(df['blueadc'] == 'Aphelios') | (df['redadc'] == 'Aphelios')]\n",
    "\n",
    "    # Group the data by both blue and red supports and calculate the mean winrate\n",
    "    support_winrates = aphelios_adc_games.groupby(['bluesupport', 'redsupport'])['result'].mean()\n",
    "\n",
    "    # Convert the MultiIndex to a DataFrame and reset the index\n",
    "    support_winrates_df = support_winrates.reset_index()\n",
    "\n",
    "    # Combine blue and red supports into a single 'support' column\n",
    "    support_winrates_df['support'] = support_winrates_df['bluesupport'].fillna(support_winrates_df['redsupport'])\n",
    "\n",
    "    # Select only the 'support' and 'result' columns\n",
    "    support_winrates_df = support_winrates_df[['support', 'result']]\n",
    "\n",
    "    # Rename the 'result' column to 'winrate'\n",
    "    support_winrates_df = support_winrates_df.rename(columns={'result': 'winrate'})\n",
    "\n",
    "    # Group by 'support' and calculate the average winrate\n",
    "    support_winrates_avg = support_winrates_df.groupby('support')['winrate'].mean().reset_index()\n",
    "\n",
    "    # Sort the DataFrame by winrate in descending order\n",
    "    support_winrates_avg = support_winrates_avg.sort_values(by='winrate', ascending=False)\n",
    "\n",
    "    return support_winrates_avg\n",
    "\n",
    "result_df = support_winrates_with_aphelios(data)\n",
    "print(result_df)\n"
   ]
  },
  {
   "cell_type": "markdown",
   "id": "0ec43f54",
   "metadata": {},
   "source": [
    "## Well played\n",
    "\n",
    "You were able to see the basic operation of pandas.\\\n",
    "You now understand one of the basics of data science.\n",
    "\n",
    "Fortunately I thought about the brave people who would arrive there, a second topic is waiting for you on a dataset detailing the sale of video games in the world.\n",
    "\n",
    "<img src=\"./image/win.png\"/>"
   ]
  },
  {
   "cell_type": "code",
   "execution_count": null,
   "id": "100fdf01-b3d1-493d-a0a3-3a1251e81a61",
   "metadata": {},
   "outputs": [],
   "source": []
  }
 ],
 "metadata": {
  "kernelspec": {
   "display_name": "Python 3 (ipykernel)",
   "language": "python",
   "name": "python3"
  },
  "language_info": {
   "codemirror_mode": {
    "name": "ipython",
    "version": 3
   },
   "file_extension": ".py",
   "mimetype": "text/x-python",
   "name": "python",
   "nbconvert_exporter": "python",
   "pygments_lexer": "ipython3",
   "version": "3.10.12"
  }
 },
 "nbformat": 4,
 "nbformat_minor": 5
}
